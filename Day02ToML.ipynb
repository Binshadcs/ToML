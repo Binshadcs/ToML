{
  "nbformat": 4,
  "nbformat_minor": 0,
  "metadata": {
    "colab": {
      "name": "Day02ToML.ipynb",
      "provenance": [],
      "authorship_tag": "ABX9TyPSj0LO+ocH1r6eiPYLDxv+",
      "include_colab_link": true
    },
    "kernelspec": {
      "name": "python3",
      "display_name": "Python 3"
    },
    "language_info": {
      "name": "python"
    }
  },
  "cells": [
    {
      "cell_type": "markdown",
      "metadata": {
        "id": "view-in-github",
        "colab_type": "text"
      },
      "source": [
        "<a href=\"https://colab.research.google.com/github/Binshadcs/ToML/blob/main/Day02ToML.ipynb\" target=\"_parent\"><img src=\"https://colab.research.google.com/assets/colab-badge.svg\" alt=\"Open In Colab\"/></a>"
      ]
    },
    {
      "cell_type": "markdown",
      "metadata": {
        "id": "hEwO3avfq_LY"
      },
      "source": [
        "## Magic 8 Balls"
      ]
    },
    {
      "cell_type": "code",
      "metadata": {
        "id": "qox-xRP2pv7a"
      },
      "source": [
        "import random"
      ],
      "execution_count": null,
      "outputs": []
    },
    {
      "cell_type": "code",
      "metadata": {
        "id": "teX4IfcGrJR9"
      },
      "source": [
        "def getAnswer(answerNumber):\n",
        "  if answerNumber == 1:\n",
        "      return 'It is certain'\n",
        "  elif answerNumber == 2:\n",
        "      return 'It is decidedly so'\n",
        "  elif answerNumber == 3:\n",
        "      return 'Yes'\n",
        "  elif answerNumber == 4:\n",
        "      return 'Reply hazy try again'\n",
        "  elif answerNumber == 5:\n",
        "      return 'Ask again later'\n",
        "  elif answerNumber == 6:\n",
        "      return 'Concentrate and ask again'\n",
        "  elif answerNumber == 7:\n",
        "      return 'My reply is no'\n",
        "  elif answerNumber == 8:\n",
        "      return 'Outlook not so good'\n",
        "  elif answerNumber == 9:\n",
        "      return 'Very doubtful'"
      ],
      "execution_count": null,
      "outputs": []
    },
    {
      "cell_type": "code",
      "metadata": {
        "colab": {
          "base_uri": "https://localhost:8080/"
        },
        "id": "LtDonuPGrj9I",
        "outputId": "b5727408-002e-4f60-dcec-ca89e7c426cd"
      },
      "source": [
        "print(getAnswer(random.randint(1, 9)))"
      ],
      "execution_count": null,
      "outputs": [
        {
          "output_type": "stream",
          "text": [
            "Outlook not so good\n"
          ],
          "name": "stdout"
        }
      ]
    },
    {
      "cell_type": "markdown",
      "metadata": {
        "id": "mZAlgzN4uaev"
      },
      "source": [
        "---------------------------------------------------magic 8 ball end--------------------------------------"
      ]
    },
    {
      "cell_type": "code",
      "metadata": {
        "colab": {
          "base_uri": "https://localhost:8080/"
        },
        "id": "cyUS3Ux5tg0T",
        "outputId": "77f5fc1d-1894-4113-bb87-afdc33bddd46"
      },
      "source": [
        "print('Hello', end='')\n",
        "print('World')"
      ],
      "execution_count": null,
      "outputs": [
        {
          "output_type": "stream",
          "text": [
            "Hello World\n"
          ],
          "name": "stdout"
        }
      ]
    },
    {
      "cell_type": "code",
      "metadata": {
        "colab": {
          "base_uri": "https://localhost:8080/"
        },
        "id": "apLYDY7TuXD1",
        "outputId": "3b3d4196-be40-4abb-fe3c-cf06acf896f1"
      },
      "source": [
        "print('cats', 'dogs', 'mice', sep=',')"
      ],
      "execution_count": null,
      "outputs": [
        {
          "output_type": "stream",
          "text": [
            "cats,dogs,mice\n"
          ],
          "name": "stdout"
        }
      ]
    },
    {
      "cell_type": "code",
      "metadata": {
        "colab": {
          "base_uri": "https://localhost:8080/"
        },
        "id": "4a3HlRkkv0pv",
        "outputId": "338d4923-cfd4-448d-d9ce-949ab2f90fd2"
      },
      "source": [
        "# abcd Call Stack\n",
        "\n",
        "def a():\n",
        "  print('a() starts')\n",
        "  b()\n",
        "  d()\n",
        "  print('a() returns')\n",
        "\n",
        "def b():\n",
        "  print('b() starts')\n",
        "  c()\n",
        "  print('b() returns')\n",
        "\n",
        "def c():\n",
        "  print('c() starts')\n",
        "  print('c() returns')\n",
        "\n",
        "def d():\n",
        "  print('d() starts')\n",
        "  print('d() returns')\n",
        "a()"
      ],
      "execution_count": null,
      "outputs": [
        {
          "output_type": "stream",
          "text": [
            "a() starts\n",
            "b() starts\n",
            "c() starts\n",
            "c() returns\n",
            "b() returns\n",
            "d() starts\n",
            "d() returns\n",
            "a() returns\n"
          ],
          "name": "stdout"
        }
      ]
    },
    {
      "cell_type": "code",
      "metadata": {
        "colab": {
          "base_uri": "https://localhost:8080/",
          "height": 167
        },
        "id": "N6ozPR1NzSv_",
        "outputId": "0066acc3-fc6f-4622-9f44-2bba8bcb22a8"
      },
      "source": [
        "from google.colab.patches import cv2_imshow\n",
        "!curl -o logo.png https://automatetheboringstuff.com/2e/images/000054.jpg\n",
        "import cv2\n",
        "img = cv2.imread('logo.png', cv2.IMREAD_UNCHANGED)\n",
        "cv2_imshow(img)\n"
      ],
      "execution_count": null,
      "outputs": [
        {
          "output_type": "stream",
          "text": [
            "  % Total    % Received % Xferd  Average Speed   Time    Time     Time  Current\n",
            "                                 Dload  Upload   Total   Spent    Left  Speed\n",
            "100 22642  100 22642    0     0  52050      0 --:--:-- --:--:-- --:--:-- 52170\n"
          ],
          "name": "stdout"
        },
        {
          "output_type": "display_data",
          "data": {
            "image/png": "[encoded data removed]",
            "text/plain": [
              "<PIL.Image.Image image mode=RGB size=690x100 at 0x7F501C38C790>"
            ]
          },
          "metadata": {
            "tags": []
          }
        }
      ]
    },
    {
      "cell_type": "code",
      "metadata": {
        "colab": {
          "base_uri": "https://localhost:8080/"
        },
        "id": "A5b56JRZ19fF",
        "outputId": "7d6cc0fd-8722-497e-c117-2cb86ae6c99a"
      },
      "source": [
        "test = 'global'\n",
        "def sample():\n",
        "  test = 'local in sample '\n",
        "  nestFun()\n",
        "  print(test)\n",
        "\n",
        "def nestFun():\n",
        "  test = 'local in nestFun'\n",
        "\n",
        "sample()\n",
        "print(test)"
      ],
      "execution_count": null,
      "outputs": [
        {
          "output_type": "stream",
          "text": [
            "local in sample \n",
            "global\n"
          ],
          "name": "stdout"
        }
      ]
    },
    {
      "cell_type": "code",
      "metadata": {
        "colab": {
          "base_uri": "https://localhost:8080/"
        },
        "id": "aarevFlV4Nzr",
        "outputId": "280910bc-2bb6-4e7c-92ce-99eb44657ca1"
      },
      "source": [
        "def code():\n",
        "  global me \n",
        "  me = 'Global varriable'\n",
        "\n",
        "me = 'edited global varriable'\n",
        "code()\n",
        "print(me)\n"
      ],
      "execution_count": null,
      "outputs": [
        {
          "output_type": "stream",
          "text": [
            "Global varriable\n"
          ],
          "name": "stdout"
        }
      ]
    },
    {
      "cell_type": "code",
      "metadata": {
        "colab": {
          "base_uri": "https://localhost:8080/"
        },
        "id": "Y0X258xY5gJp",
        "outputId": "b4394d58-e8a8-42f2-f523-bd95ae4ba87a"
      },
      "source": [
        "def spam():\n",
        "  global eggs\n",
        "  eggs = 'spam' # this is the global\n",
        "  print(eggs)\n",
        "  bacon()\n",
        "\n",
        "def bacon():\n",
        "  eggs = 'bacon' # this is a local\n",
        "  print(eggs)\n",
        "  ham()\n",
        "\n",
        "def ham():\n",
        "  print(eggs) # this is the global\n",
        "\n",
        "eggs = 42 # this is the global\n",
        "spam()\n",
        "print(eggs)"
      ],
      "execution_count": null,
      "outputs": [
        {
          "output_type": "stream",
          "text": [
            "spam\n",
            "bacon\n",
            "spam\n",
            "spam\n"
          ],
          "name": "stdout"
        }
      ]
    },
    {
      "cell_type": "code",
      "metadata": {
        "id": "UZA0xjh-6_zw"
      },
      "source": [
        "# ZeroDivisionError: division by zero\n",
        "\n",
        "def division(divideBy):\n",
        "  return 15/divideBy\n",
        "\n",
        "print(division(2))\n",
        "print(division(10))\n",
        "print(division(0))\n",
        "print(division(5))"
      ],
      "execution_count": null,
      "outputs": []
    },
    {
      "cell_type": "code",
      "metadata": {
        "colab": {
          "base_uri": "https://localhost:8080/"
        },
        "id": "rpD263_Y8qYA",
        "outputId": "991d53ce-6f47-4353-9bb5-a26d6ed4de63"
      },
      "source": [
        "# ZeroDivisionError: FIXED \n",
        "def division(divideBy):\n",
        "    try:\n",
        "        return 42 / divideBy\n",
        "    except ZeroDivisionError:\n",
        "        return 'Error: Invalid argument.'\n",
        "\n",
        "print(division(2))\n",
        "print(division(12))\n",
        "print(division(0))\n",
        "print(division(1))"
      ],
      "execution_count": null,
      "outputs": [
        {
          "output_type": "stream",
          "text": [
            "21.0\n",
            "3.5\n",
            "Error: Invalid argument.\n",
            "42.0\n"
          ],
          "name": "stdout"
        }
      ]
    },
    {
      "cell_type": "code",
      "metadata": {
        "colab": {
          "base_uri": "https://localhost:8080/",
          "height": 86
        },
        "id": "JxCBs3Hx9tSj",
        "outputId": "b3d6b1d5-5435-46f7-a033-fc1a3b9d1777"
      },
      "source": [
        "def division(divideBy):\n",
        "    return 42 / divideBy\n",
        "\n",
        "try:\n",
        "    print(division(2))\n",
        "    print(division(12))\n",
        "    print(division(0))\n",
        "    print(division(1))\n",
        "except ZeroDivisionError:\n",
        "    print('Error: Invalid argument.')\n",
        "\n",
        "\"\"\"  once the execution jumps to the code in the except clause, it does not return to the try clause  \"\"\"\n"
      ],
      "execution_count": null,
      "outputs": [
        {
          "output_type": "stream",
          "text": [
            "21.0\n",
            "3.5\n",
            "Error: Invalid argument.\n"
          ],
          "name": "stdout"
        },
        {
          "output_type": "execute_result",
          "data": {
            "application/vnd.google.colaboratory.intrinsic+json": {
              "type": "string"
            },
            "text/plain": [
              "'  once the execution jumps to the code in the except clause, it does not return to the try clause  '"
            ]
          },
          "metadata": {
            "tags": []
          },
          "execution_count": 34
        }
      ]
    }
  ]
}