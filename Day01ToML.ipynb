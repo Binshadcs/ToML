{
  "nbformat": 4,
  "nbformat_minor": 0,
  "metadata": {
    "colab": {
      "name": "Day01ToML.ipynb",
      "provenance": [],
      "authorship_tag": "ABX9TyNES8UBknC66dbNk1i5SNot",
      "include_colab_link": true
    },
    "kernelspec": {
      "name": "python3",
      "display_name": "Python 3"
    },
    "language_info": {
      "name": "python"
    }
  },
  "cells": [
    {
      "cell_type": "markdown",
      "metadata": {
        "id": "view-in-github",
        "colab_type": "text"
      },
      "source": [
        "<a href=\"https://colab.research.google.com/github/Binshadcs/ToML/blob/main/Day01ToML.ipynb\" target=\"_parent\"><img src=\"https://colab.research.google.com/assets/colab-badge.svg\" alt=\"Open In Colab\"/></a>"
      ]
    },
    {
      "cell_type": "code",
      "metadata": {
        "colab": {
          "base_uri": "https://localhost:8080/"
        },
        "id": "OZy4HGDLc62D",
        "outputId": "969620ee-1116-40d0-f72e-87c9efcc4558"
      },
      "source": [
        "name = input(\"Enter ur name \")\n",
        "age = int(input(\"Enter ur age \"))\n",
        "print('I am ' + name + ' and '+ str(age) +' years old.')"
      ],
      "execution_count": null,
      "outputs": [
        {
          "output_type": "stream",
          "text": [
            "Enter ur name kochu\n",
            "Enter ur age 20\n",
            "I am kochu and 20 years old.\n"
          ],
          "name": "stdout"
        }
      ]
    },
    {
      "cell_type": "code",
      "metadata": {
        "colab": {
          "base_uri": "https://localhost:8080/"
        },
        "id": "A7pHNqVjeNHs",
        "outputId": "e86aed1c-c6fc-4f01-ed5f-1fabf1880f39"
      },
      "source": [
        "round(437.4456789)"
      ],
      "execution_count": 9,
      "outputs": [
        {
          "output_type": "execute_result",
          "data": {
            "text/plain": [
              "437"
            ]
          },
          "metadata": {
            "tags": []
          },
          "execution_count": 9
        }
      ]
    },
    {
      "cell_type": "code",
      "metadata": {
        "id": "E8PEIrdyf90b"
      },
      "source": [
        "span = True"
      ],
      "execution_count": 11,
      "outputs": []
    },
    {
      "cell_type": "code",
      "metadata": {
        "colab": {
          "base_uri": "https://localhost:8080/"
        },
        "id": "3vpw26AhgyfA",
        "outputId": "73cb150f-8d28-4f3d-a712-aee8723f1eb0"
      },
      "source": [
        "name = input(\"Enter Username : \")\n",
        "if name == \"Binshad\":\n",
        "  password = input(\"Enter ur password : \")\n",
        "  print('Hello, '+name)\n",
        "  if password == 'kochu':\n",
        "    print('Access granted.')\n",
        "  else:\n",
        "    print('Wrong password.')\n",
        "else:\n",
        "  print(r\"Who the fuck are you ?\")"
      ],
      "execution_count": 16,
      "outputs": [
        {
          "output_type": "stream",
          "text": [
            "Enter Username : hgfyy\n",
            "Who the fuck are you ?\n"
          ],
          "name": "stdout"
        }
      ]
    },
    {
      "cell_type": "code",
      "metadata": {
        "colab": {
          "base_uri": "https://localhost:8080/"
        },
        "id": "KebC08RUingh",
        "outputId": "3c445486-b9e9-45d3-cc66-aa05db84f3a0"
      },
      "source": [
        "name = \"kochg4irkk\"\n",
        "while name != \"kochu\":\n",
        "  name = input(\"Enter ur name \")\n",
        "\n",
        "print(\"Thank U \"+name) "
      ],
      "execution_count": 18,
      "outputs": [
        {
          "output_type": "stream",
          "text": [
            "Enter ur name gugjh\n",
            "Enter ur name jbjhbuj\n",
            "Enter ur name jkjerg\n",
            "Enter ur name ogio\n",
            "Enter ur name bibrtv\n",
            "Enter ur name birbvirt\n",
            "Enter ur name rbtktr\n",
            "Enter ur name rbvtr\n",
            "Enter ur name nrtkgntr\n",
            "Enter ur name kochu\n",
            "Thank U kochu\n"
          ],
          "name": "stdout"
        }
      ]
    },
    {
      "cell_type": "code",
      "metadata": {
        "colab": {
          "base_uri": "https://localhost:8080/"
        },
        "id": "JRxRNqCajrW4",
        "outputId": "e70562c1-2c57-47fc-8b8c-5cdfa2090cf2"
      },
      "source": [
        "while True:\n",
        "  print('Who are you?')\n",
        "  name = input()\n",
        "  if name != 'Joe':\n",
        "    continue\n",
        "  print('Hello, Joe. What is the password? (It is a fish.)')\n",
        "  password = input()\n",
        "  if password == 'kochu':\n",
        "    print('Access granted.') \n",
        "    break\n",
        "       "
      ],
      "execution_count": 24,
      "outputs": [
        {
          "output_type": "stream",
          "text": [
            "Who are you?\n",
            "Joe\n",
            "Hello, Joe. What is the password? (It is a fish.)\n",
            "kochu\n",
            "Access granted.\n"
          ],
          "name": "stdout"
        }
      ]
    },
    {
      "cell_type": "code",
      "metadata": {
        "colab": {
          "base_uri": "https://localhost:8080/"
        },
        "id": "lfZteNxQlRZn",
        "outputId": "b55a78a6-0ea9-4f4b-dd47-1df596801e15"
      },
      "source": [
        "name = ''\n",
        "while not name :\n",
        "  print(\"Enter ur name \")\n",
        "  name = input()\n",
        "print(\"How many guests will you have ?\")\n",
        "numOfGuests = int(input())\n",
        "if numOfGuests:\n",
        "    print(\"Be sure to have enough room for all your guests \")\n",
        "print(\"Done\")"
      ],
      "execution_count": 32,
      "outputs": [
        {
          "output_type": "stream",
          "text": [
            "Enter ur name \n",
            "kk\n",
            "How many guests will you have ?\n",
            "0\n",
            "Done\n"
          ],
          "name": "stdout"
        }
      ]
    },
    {
      "cell_type": "code",
      "metadata": {
        "id": "Op39fdH9oiHJ"
      },
      "source": [
        "import sys\n",
        "\n",
        "while True:\n",
        "    print('Type exit to exit.')\n",
        "    response = input()\n",
        "    if response == 'exit':\n",
        "        sys.exit()\n",
        "    print('You typed ' + response + '.')"
      ],
      "execution_count": null,
      "outputs": []
    },
    {
      "cell_type": "code",
      "metadata": {
        "id": "IW4bvx1ppGfC"
      },
      "source": [
        "# This is the Guess number game \n",
        "import random\n",
        "\n",
        "secretNumber = random.randint(1, 20)\n",
        "print('I am thinking of a number between 1 and 20.')\n",
        "\n",
        "# Ask the player to guess 6 times.\n",
        "for guessesTaken in range(1, 7):\n",
        "    print('Take a guess.')\n",
        "    guess = int(input())\n",
        "\n",
        "    if guess < secretNumber:\n",
        "        print('Your guess is too low.')\n",
        "    elif guess > secretNumber:\n",
        "        print('Your guess is too high.')\n",
        "    else:\n",
        "        break    # This condition is the correct guess!\n",
        "\n",
        "if guess == secretNumber:\n",
        "    print('Good job! You guessed my number in ' + str(guessesTaken) + ' guesses!')\n",
        "else:\n",
        "    print('Nope. The number I was thinking of was ' + str(secretNumber))"
      ],
      "execution_count": null,
      "outputs": []
    },
    {
      "cell_type": "code",
      "metadata": {
        "colab": {
          "base_uri": "https://localhost:8080/",
          "height": 212
        },
        "id": "NR_oUBZLsk8p",
        "outputId": "ec7dafb0-c455-47d6-87dc-2ccb93341874"
      },
      "source": [
        "import random, sys\n",
        "\n",
        "print('ROCK, PAPER, SCISSORS')\n",
        "\n",
        "# These variables keep track of the number of wins, losses, and ties.\n",
        "wins = 0\n",
        "losses = 0\n",
        "ties = 0\n",
        "\n",
        "while True: # The main game loop.\n",
        "    print('%s Wins, %s Losses, %s Ties' % (wins, losses, ties))\n",
        "    while True: # The player input loop.\n",
        "        print('Enter your move: (r)ock (p)aper (s)cissors or (q)uit')\n",
        "        playerMove = input()\n",
        "        if playerMove == 'q':\n",
        "            sys.exit() # Quit the program.\n",
        "        if playerMove == 'r' or playerMove == 'p' or playerMove == 's':\n",
        "            break # Break out of the player input loop.\n",
        "        print('Type one of r, p, s, or q.')\n",
        "\n",
        "    # Display what the player chose:\n",
        "    if playerMove == 'r':\n",
        "        print('ROCK versus...')\n",
        "    elif playerMove == 'p':\n",
        "        print('PAPER versus...')\n",
        "    elif playerMove == 's':\n",
        "        print('SCISSORS versus...')\n",
        "\n",
        "    # Display what the computer chose:\n",
        "    randomNumber = random.randint(1, 3)\n",
        "    if randomNumber == 1:\n",
        "        computerMove = 'r'\n",
        "        print('ROCK')\n",
        "    elif randomNumber == 2:\n",
        "        computerMove = 'p'\n",
        "        print('PAPER')\n",
        "    elif randomNumber == 3:\n",
        "        computerMove = 's'\n",
        "        print('SCISSORS')\n",
        "\n",
        "    # Display and record the win/loss/tie:\n",
        "    if playerMove == computerMove:\n",
        "        print('It is a tie!')\n",
        "        ties = ties + 1\n",
        "    elif playerMove == 'r' and computerMove == 's':\n",
        "        print('You win!')\n",
        "        wins = wins + 1\n",
        "    elif playerMove == 'p' and computerMove == 'r':\n",
        "        print('You win!')\n",
        "        wins = wins + 1\n",
        "    elif playerMove == 's' and computerMove == 'p':\n",
        "        print('You win!')\n",
        "        wins = wins + 1\n",
        "    elif playerMove == 'r' and computerMove == 'p':\n",
        "        print('You lose!')\n",
        "        losses = losses + 1\n",
        "    elif playerMove == 'p' and computerMove == 's':\n",
        "        print('You lose!')\n",
        "        losses = losses + 1\n",
        "    elif playerMove == 's' and computerMove == 'r':\n",
        "        print('You lose!')\n",
        "        losses = losses + 1"
      ],
      "execution_count": 4,
      "outputs": [
        {
          "output_type": "stream",
          "text": [
            "ROCK, PAPER, SCISSORS\n",
            "0 Wins, 0 Losses, 0 Ties\n",
            "Enter your move: (r)ock (p)aper (s)cissors or (q)uit\n",
            "q\n"
          ],
          "name": "stdout"
        },
        {
          "output_type": "error",
          "ename": "SystemExit",
          "evalue": "ignored",
          "traceback": [
            "An exception has occurred, use %tb to see the full traceback.\n",
            "\u001b[0;31mSystemExit\u001b[0m\n"
          ]
        },
        {
          "output_type": "stream",
          "text": [
            "/usr/local/lib/python3.7/dist-packages/IPython/core/interactiveshell.py:2890: UserWarning: To exit: use 'exit', 'quit', or Ctrl-D.\n",
            "  warn(\"To exit: use 'exit', 'quit', or Ctrl-D.\", stacklevel=1)\n"
          ],
          "name": "stderr"
        }
      ]
    },
    {
      "cell_type": "code",
      "metadata": {
        "id": "-yctyTDgDZp-"
      },
      "source": [
        "print(divmod(22,10))"
      ],
      "execution_count": null,
      "outputs": []
    }
  ]
}